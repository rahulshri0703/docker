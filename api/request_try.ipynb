{
 "cells": [
  {
   "cell_type": "code",
   "execution_count": 10,
   "metadata": {},
   "outputs": [],
   "source": [
    "import requests\n",
    "import json"
   ]
  },
  {
   "cell_type": "code",
   "execution_count": 4,
   "metadata": {},
   "outputs": [],
   "source": [
    "r = requests.get('http://127.0.0.1:8000/home?name=rahul&surname=shrivas')"
   ]
  },
  {
   "cell_type": "code",
   "execution_count": 6,
   "metadata": {},
   "outputs": [
    {
     "data": {
      "text/plain": [
       "'\"your name is rahul shrivas\"'"
      ]
     },
     "execution_count": 6,
     "metadata": {},
     "output_type": "execute_result"
    }
   ],
   "source": [
    "r.text"
   ]
  },
  {
   "cell_type": "code",
   "execution_count": 11,
   "metadata": {},
   "outputs": [],
   "source": [
    "data = json.dumps({\n",
    "  \"variable1\": 5,\n",
    "  \"variable2\": 6,\n",
    "  \"variable3\": 8\n",
    "})"
   ]
  },
  {
   "cell_type": "code",
   "execution_count": 4,
   "metadata": {},
   "outputs": [
    {
     "data": {
      "text/plain": [
       "'{\"variable1\": 5, \"variable2\": 6, \"variable3\": 8}'"
      ]
     },
     "execution_count": 4,
     "metadata": {},
     "output_type": "execute_result"
    }
   ],
   "source": [
    "data\n"
   ]
  },
  {
   "cell_type": "code",
   "execution_count": 13,
   "metadata": {},
   "outputs": [
    {
     "data": {
      "text/plain": [
       "<Response [200]>"
      ]
     },
     "execution_count": 13,
     "metadata": {},
     "output_type": "execute_result"
    }
   ],
   "source": [
    "#aws\n",
    "rr = requests.post('http://52.90.195.203:8000/predict',data=data)\n",
    "rr"
   ]
  },
  {
   "cell_type": "code",
   "execution_count": 15,
   "metadata": {},
   "outputs": [
    {
     "data": {
      "text/plain": [
       "'\"19.0\"'"
      ]
     },
     "execution_count": 15,
     "metadata": {},
     "output_type": "execute_result"
    }
   ],
   "source": [
    "rr.text"
   ]
  },
  {
   "cell_type": "code",
   "execution_count": 19,
   "metadata": {},
   "outputs": [
    {
     "data": {
      "text/plain": [
       "<Response [200]>"
      ]
     },
     "execution_count": 19,
     "metadata": {},
     "output_type": "execute_result"
    }
   ],
   "source": [
    "r = requests.post('http://127.0.0.1:8000/predict',data=data)\n",
    "r"
   ]
  },
  {
   "cell_type": "code",
   "execution_count": 20,
   "metadata": {},
   "outputs": [
    {
     "data": {
      "text/plain": [
       "'\"19.0\"'"
      ]
     },
     "execution_count": 20,
     "metadata": {},
     "output_type": "execute_result"
    }
   ],
   "source": [
    "r.text"
   ]
  },
  {
   "cell_type": "code",
   "execution_count": null,
   "metadata": {},
   "outputs": [],
   "source": [
    "'''\n",
    "use curl\n",
    "\n",
    "curl -X 'GET' \\\n",
    "  'http://127.0.0.1:8000/home?name=neha&surname=verma' \\\n",
    "  -H 'accept: application/json'\n",
    "\n",
    "\n",
    "curl -X 'POST' \\\n",
    "  'http://127.0.0.1:8000/predict' \\\n",
    "  -H 'accept: application/json' \\\n",
    "  -H 'Content-Type: application/json' \\\n",
    "  -d '{\n",
    "  \"variable1\": 5,\n",
    "  \"variable2\": 6,\n",
    "  \"variable3\": 8\n",
    "}'\n",
    "\n",
    "\n",
    "\n",
    "\n",
    "'''"
   ]
  },
  {
   "cell_type": "code",
   "execution_count": 22,
   "metadata": {},
   "outputs": [
    {
     "name": "stdout",
     "output_type": "stream",
     "text": [
      "\"your name is neha verma\""
     ]
    }
   ],
   "source": [
    "!curl -X 'GET' \\\n",
    "  'http://127.0.0.1:8000/home?name=neha&surname=verma' \\\n",
    "  -H 'accept: application/json'"
   ]
  },
  {
   "cell_type": "code",
   "execution_count": 25,
   "metadata": {},
   "outputs": [
    {
     "name": "stdout",
     "output_type": "stream",
     "text": [
      "\"19.0\""
     ]
    }
   ],
   "source": [
    "!curl -X 'POST' \\\n",
    "  'http://127.0.0.1:8000/predict' \\\n",
    "  -H 'accept: application/json' \\\n",
    "  -H 'Content-Type: application/json' \\\n",
    "  -d '{            \\\n",
    "  \"variable1\": 5,  \\\n",
    "  \"variable2\": 6,  \\\n",
    "  \"variable3\": 8  \\\n",
    "}'"
   ]
  },
  {
   "cell_type": "code",
   "execution_count": null,
   "metadata": {},
   "outputs": [],
   "source": [
    "'''for aws:\n",
    "\n",
    "\n",
    "curl -X 'GET' \\\n",
    "  'http://52.90.195.203:8000/home?name=neha%20&surname=verma' \\\n",
    "  -H 'accept: application/json'\n",
    "\n",
    "\n",
    "\n",
    "\n",
    "\n",
    "curl -X 'POST' \\\n",
    "  'http://52.90.195.203:8000/predict' \\\n",
    "  -H 'accept: application/json' \\\n",
    "  -H 'Content-Type: application/json' \\\n",
    "  -d '{\n",
    "  \"variable1\": 6,\n",
    "  \"variable2\": 7,\n",
    "  \"variable3\": 8\n",
    "}'\n",
    "'''"
   ]
  }
 ],
 "metadata": {
  "kernelspec": {
   "display_name": "summary-62HOB2b_",
   "language": "python",
   "name": "python3"
  },
  "language_info": {
   "codemirror_mode": {
    "name": "ipython",
    "version": 3
   },
   "file_extension": ".py",
   "mimetype": "text/x-python",
   "name": "python",
   "nbconvert_exporter": "python",
   "pygments_lexer": "ipython3",
   "version": "3.10.6"
  },
  "orig_nbformat": 4,
  "vscode": {
   "interpreter": {
    "hash": "2783e7f24cfc7843ba8addc6e351f6ed7ca37c284c3a6c8f7e957fd97a43ad50"
   }
  }
 },
 "nbformat": 4,
 "nbformat_minor": 2
}
